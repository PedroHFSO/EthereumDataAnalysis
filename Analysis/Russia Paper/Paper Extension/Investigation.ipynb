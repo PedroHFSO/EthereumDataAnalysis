{
 "cells": [
  {
   "attachments": {},
   "cell_type": "markdown",
   "metadata": {},
   "source": [
    "### New Analysis In-Progress\n",
    "\n",
    "To try to find better results in regards to causes and effects, we are analyzing the past year before the war to try and determine whether we have considerate changes in the period of interest."
   ]
  },
  {
   "attachments": {},
   "cell_type": "markdown",
   "metadata": {},
   "source": [
    "#### Imports and Variables"
   ]
  },
  {
   "cell_type": "code",
   "execution_count": 36,
   "metadata": {},
   "outputs": [],
   "source": [
    "import pandas as pd\n",
    "import dask.dataframe as dd \n",
    "import seaborn as sns"
   ]
  },
  {
   "attachments": {},
   "cell_type": "markdown",
   "metadata": {},
   "source": [
    "First, I'll just write a script to convert the dataset I've obtained into a new lighter version. This is just part of the data cleaning process."
   ]
  },
  {
   "cell_type": "code",
   "execution_count": 8,
   "metadata": {},
   "outputs": [
    {
     "data": {
      "text/html": [
       "<div><strong>Dask DataFrame Structure:</strong></div>\n",
       "<div>\n",
       "<style scoped>\n",
       "    .dataframe tbody tr th:only-of-type {\n",
       "        vertical-align: middle;\n",
       "    }\n",
       "\n",
       "    .dataframe tbody tr th {\n",
       "        vertical-align: top;\n",
       "    }\n",
       "\n",
       "    .dataframe thead th {\n",
       "        text-align: right;\n",
       "    }\n",
       "</style>\n",
       "<table border=\"1\" class=\"dataframe\">\n",
       "  <thead>\n",
       "    <tr style=\"text-align: right;\">\n",
       "      <th></th>\n",
       "      <th>hash</th>\n",
       "      <th>block_number</th>\n",
       "      <th>block_timestamp</th>\n",
       "      <th>from_address</th>\n",
       "      <th>to_address</th>\n",
       "      <th>value</th>\n",
       "    </tr>\n",
       "    <tr>\n",
       "      <th>npartitions=178</th>\n",
       "      <th></th>\n",
       "      <th></th>\n",
       "      <th></th>\n",
       "      <th></th>\n",
       "      <th></th>\n",
       "      <th></th>\n",
       "    </tr>\n",
       "  </thead>\n",
       "  <tbody>\n",
       "    <tr>\n",
       "      <th></th>\n",
       "      <td>object</td>\n",
       "      <td>int64</td>\n",
       "      <td>int64</td>\n",
       "      <td>object</td>\n",
       "      <td>object</td>\n",
       "      <td>object</td>\n",
       "    </tr>\n",
       "    <tr>\n",
       "      <th></th>\n",
       "      <td>...</td>\n",
       "      <td>...</td>\n",
       "      <td>...</td>\n",
       "      <td>...</td>\n",
       "      <td>...</td>\n",
       "      <td>...</td>\n",
       "    </tr>\n",
       "    <tr>\n",
       "      <th>...</th>\n",
       "      <td>...</td>\n",
       "      <td>...</td>\n",
       "      <td>...</td>\n",
       "      <td>...</td>\n",
       "      <td>...</td>\n",
       "      <td>...</td>\n",
       "    </tr>\n",
       "    <tr>\n",
       "      <th></th>\n",
       "      <td>...</td>\n",
       "      <td>...</td>\n",
       "      <td>...</td>\n",
       "      <td>...</td>\n",
       "      <td>...</td>\n",
       "      <td>...</td>\n",
       "    </tr>\n",
       "    <tr>\n",
       "      <th></th>\n",
       "      <td>...</td>\n",
       "      <td>...</td>\n",
       "      <td>...</td>\n",
       "      <td>...</td>\n",
       "      <td>...</td>\n",
       "      <td>...</td>\n",
       "    </tr>\n",
       "  </tbody>\n",
       "</table>\n",
       "</div>\n",
       "<div>Dask Name: getitem, 356 tasks</div>"
      ],
      "text/plain": [
       "Dask DataFrame Structure:\n",
       "                   hash block_number block_timestamp from_address to_address   value\n",
       "npartitions=178                                                                     \n",
       "                 object        int64           int64       object     object  object\n",
       "                    ...          ...             ...          ...        ...     ...\n",
       "...                 ...          ...             ...          ...        ...     ...\n",
       "                    ...          ...             ...          ...        ...     ...\n",
       "                    ...          ...             ...          ...        ...     ...\n",
       "Dask Name: getitem, 356 tasks"
      ]
     },
     "execution_count": 8,
     "metadata": {},
     "output_type": "execute_result"
    }
   ],
   "source": [
    "MONTH_NAME = 'july'\n",
    "YEAR = '21'\n",
    "DATASET_ID = '1'\n",
    "DATASET_NAME = MONTH_NAME+YEAR+'_'+DATASET_ID+'.csv'\n",
    "df = dd.read_csv(DATASET_NAME)\n",
    "df = df[['hash', 'block_number','block_timestamp','from_address','to_address','value']]\n",
    "df"
   ]
  },
  {
   "cell_type": "code",
   "execution_count": null,
   "metadata": {},
   "outputs": [],
   "source": [
    "df.to_csv('./light-'+DATASET_NAME, single_file = True)"
   ]
  },
  {
   "attachments": {},
   "cell_type": "markdown",
   "metadata": {},
   "source": [
    "### Important accounts Analysis\n",
    "\n",
    "In our previous work (OLIVEIRA, P. H. F.; REZENDE, D. M.; BERNARDINO, H. S.; VILLELA, S. M.; VIEIRA, A. B.; GONC ̧ ALVES, G. D. Análise do comportamento de contas no ethereum durante um evento de impacto na economia. In: SBC. Anais do V Workshop em Blockchain: Teoria, Tecnologias e Aplicações. [S.l.], 2022. p. 54–67.) we found some relevant accounts in the important period of the Russian invasion, with big degree variations. Can these accounts reveal something about that period?\n",
    "\n",
    "First, let's check X2Y2: X2Y2 Token. The account with most significant change between February 10th and February 17th."
   ]
  },
  {
   "cell_type": "code",
   "execution_count": 26,
   "metadata": {},
   "outputs": [],
   "source": [
    "def get_degree_in_month(address, month):\n",
    "    temp_df_0 = dd.read_csv('./light-'+month+'21_0.csv', dtype = {'value':'object'})\n",
    "    temp_df_1 = dd.read_csv('./light-'+month+'21_1.csv', dtype = {'value':'object'})\n",
    "    df = dd.concat([temp_df_0, temp_df_1])\n",
    "    df = df.query('from_address == \"'+address+'\" or to_address == \"'+address+'\"')\n",
    "    return len(df.compute())"
   ]
  },
  {
   "cell_type": "code",
   "execution_count": 30,
   "metadata": {},
   "outputs": [
    {
     "name": "stdout",
     "output_type": "stream",
     "text": [
      "Reading october...\n",
      "Reading november...\n",
      "{'april': 3845, 'may': 3382, 'june': 5138, 'july': 2645, 'august': 3726, 'september': 2981, 'october': 3670, 'november': 3236}\n"
     ]
    }
   ],
   "source": [
    "X2Y2_ADDRESS = '0xfe44daeb65166846fccb3f4aa7186e36247b1c1e'\n",
    "\n",
    "month_list = ['april', 'may', 'june', 'july', 'august', 'september', 'october', 'november']\n",
    "X2Y2_dictionary = {'april': 3845, 'may': 3382, 'june' : 5138, 'july': 2645, 'august': 3726, 'september': 2981} \n",
    "\n",
    "for month in month_list:\n",
    "    print('Reading '+month+'...')\n",
    "    X2Y2_dictionary[month] = get_degree_in_month(X2Y2_ADDRESS, month)\n",
    "\n",
    "\n",
    "print(X2Y2_dictionary)\n"
   ]
  },
  {
   "cell_type": "code",
   "execution_count": 44,
   "metadata": {},
   "outputs": [
    {
     "data": {
      "text/html": [
       "<div>\n",
       "<style scoped>\n",
       "    .dataframe tbody tr th:only-of-type {\n",
       "        vertical-align: middle;\n",
       "    }\n",
       "\n",
       "    .dataframe tbody tr th {\n",
       "        vertical-align: top;\n",
       "    }\n",
       "\n",
       "    .dataframe thead th {\n",
       "        text-align: right;\n",
       "    }\n",
       "</style>\n",
       "<table border=\"1\" class=\"dataframe\">\n",
       "  <thead>\n",
       "    <tr style=\"text-align: right;\">\n",
       "      <th></th>\n",
       "      <th>Month</th>\n",
       "      <th>Degree</th>\n",
       "      <th>Account</th>\n",
       "    </tr>\n",
       "  </thead>\n",
       "  <tbody>\n",
       "    <tr>\n",
       "      <th>0</th>\n",
       "      <td>april</td>\n",
       "      <td>3845</td>\n",
       "      <td>X2Y2 Token</td>\n",
       "    </tr>\n",
       "    <tr>\n",
       "      <th>1</th>\n",
       "      <td>may</td>\n",
       "      <td>3382</td>\n",
       "      <td>X2Y2 Token</td>\n",
       "    </tr>\n",
       "    <tr>\n",
       "      <th>2</th>\n",
       "      <td>june</td>\n",
       "      <td>5138</td>\n",
       "      <td>X2Y2 Token</td>\n",
       "    </tr>\n",
       "    <tr>\n",
       "      <th>3</th>\n",
       "      <td>july</td>\n",
       "      <td>2645</td>\n",
       "      <td>X2Y2 Token</td>\n",
       "    </tr>\n",
       "    <tr>\n",
       "      <th>4</th>\n",
       "      <td>august</td>\n",
       "      <td>3726</td>\n",
       "      <td>X2Y2 Token</td>\n",
       "    </tr>\n",
       "    <tr>\n",
       "      <th>5</th>\n",
       "      <td>september</td>\n",
       "      <td>2981</td>\n",
       "      <td>X2Y2 Token</td>\n",
       "    </tr>\n",
       "    <tr>\n",
       "      <th>6</th>\n",
       "      <td>october</td>\n",
       "      <td>3670</td>\n",
       "      <td>X2Y2 Token</td>\n",
       "    </tr>\n",
       "    <tr>\n",
       "      <th>7</th>\n",
       "      <td>november</td>\n",
       "      <td>3236</td>\n",
       "      <td>X2Y2 Token</td>\n",
       "    </tr>\n",
       "  </tbody>\n",
       "</table>\n",
       "</div>"
      ],
      "text/plain": [
       "       Month  Degree     Account\n",
       "0      april    3845  X2Y2 Token\n",
       "1        may    3382  X2Y2 Token\n",
       "2       june    5138  X2Y2 Token\n",
       "3       july    2645  X2Y2 Token\n",
       "4     august    3726  X2Y2 Token\n",
       "5  september    2981  X2Y2 Token\n",
       "6    october    3670  X2Y2 Token\n",
       "7   november    3236  X2Y2 Token"
      ]
     },
     "execution_count": 44,
     "metadata": {},
     "output_type": "execute_result"
    }
   ],
   "source": [
    "x2y2_df = pd.DataFrame.from_dict(X2Y2_dictionary, orient = 'index', columns =  ['Degree'])\n",
    "x2y2_df = x2y2_df.reset_index(names = 'Month')\n",
    "x2y2_df['Account'] = 'X2Y2 Token'\n",
    "x2y2_df"
   ]
  },
  {
   "cell_type": "code",
   "execution_count": 48,
   "metadata": {},
   "outputs": [
    {
     "data": {
      "text/plain": [
       "<seaborn.axisgrid.FacetGrid at 0x7fdf450125f0>"
      ]
     },
     "execution_count": 48,
     "metadata": {},
     "output_type": "execute_result"
    },
    {
     "data": {
      "image/png": "[encoded data removed]",
      "text/plain": [
       "<Figure size 879.25x500 with 1 Axes>"
      ]
     },
     "metadata": {},
     "output_type": "display_data"
    }
   ],
   "source": [
    "sns.catplot(data = x2y2_df, x = 'Month', y = 'Degree', hue = 'Account', kind = 'point', height=5, aspect=1.5)\n"
   ]
  }
 ],
 "metadata": {
  "kernelspec": {
   "display_name": "base",
   "language": "python",
   "name": "python3"
  },
  "language_info": {
   "codemirror_mode": {
    "name": "ipython",
    "version": 3
   },
   "file_extension": ".py",
   "mimetype": "text/x-python",
   "name": "python",
   "nbconvert_exporter": "python",
   "pygments_lexer": "ipython3",
   "version": "3.10.6"
  },
  "orig_nbformat": 4
 },
 "nbformat": 4,
 "nbformat_minor": 2
}
